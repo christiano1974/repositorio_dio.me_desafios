{
  "nbformat": 4,
  "nbformat_minor": 0,
  "metadata": {
    "colab": {
      "provenance": [],
      "authorship_tag": "ABX9TyOh+s9HR65iipDhYf3wFZIs",
      "include_colab_link": true
    },
    "kernelspec": {
      "name": "python3",
      "display_name": "Python 3"
    },
    "language_info": {
      "name": "python"
    }
  },
  "cells": [
    {
      "cell_type": "markdown",
      "metadata": {
        "id": "view-in-github",
        "colab_type": "text"
      },
      "source": [
        "<a href=\"https://colab.research.google.com/github/christiano1974/repositorio_dio.me_desafios/blob/main/poo_sist_banc%C3%A1rio_dio.ipynb\" target=\"_parent\"><img src=\"https://colab.research.google.com/assets/colab-badge.svg\" alt=\"Open In Colab\"/></a>"
      ]
    },
    {
      "cell_type": "code",
      "source": [
        "###### Linguagem de programação orientada a objeto representando o funcionamento de um caixa eletrônico.\n",
        "##### Christiano. (exercício)\n",
        "class conta_corrente:\n",
        "  def __init__(self, limite = 500,limite_saques = 3,saldo_conta = 0):\n",
        "    self.limite = limite\n",
        "    self.limite_saques = limite_saques\n",
        "    self.saldo_conta = saldo_conta\n",
        "  def saque(self,valor):\n",
        "      if valor < self.limite and valor < self.saldo_conta and self.limite_saques > 0:\n",
        "        self.saldo_conta -= valor\n",
        "        self.limite_saques -= 1\n",
        "        return f\"Saque realizado com sucesso!!!\"\n",
        "      else:\n",
        "        return f\"Saque não autorizado!!\"\n",
        "  def deposito(self,valor):\n",
        "      self.saldo_conta += valor\n",
        "      return f\"Depósido no valor de {valor} realizado com sucesso !!!\"\n",
        "  def saldo(self):\n",
        "      print(f\"Saldo da conta corrente é = {self.saldo_conta}\")\n",
        "\n",
        "  \n",
        "    "
      ],
      "metadata": {
        "id": "S7Nc3GWcfOdP"
      },
      "execution_count": 212,
      "outputs": []
    },
    {
      "cell_type": "code",
      "source": [
        "conta1 = conta_corrente()\n",
        "conta1.deposito(100)"
      ],
      "metadata": {
        "colab": {
          "base_uri": "https://localhost:8080/",
          "height": 36
        },
        "id": "e98yrSt9RPfz",
        "outputId": "10098919-e538-4b64-e9f1-b5fa1ee64c62"
      },
      "execution_count": 215,
      "outputs": [
        {
          "output_type": "execute_result",
          "data": {
            "text/plain": [
              "'Depósido no valor de 100 realizado com sucesso !!!'"
            ],
            "application/vnd.google.colaboratory.intrinsic+json": {
              "type": "string"
            }
          },
          "metadata": {},
          "execution_count": 215
        }
      ]
    },
    {
      "cell_type": "code",
      "source": [
        "conta1.saque(150)"
      ],
      "metadata": {
        "colab": {
          "base_uri": "https://localhost:8080/",
          "height": 36
        },
        "id": "iIyf-y59U0k9",
        "outputId": "8998b758-6369-4a8a-fad4-35d39e38937c"
      },
      "execution_count": 216,
      "outputs": [
        {
          "output_type": "execute_result",
          "data": {
            "text/plain": [
              "'Saque não autorizado!!'"
            ],
            "application/vnd.google.colaboratory.intrinsic+json": {
              "type": "string"
            }
          },
          "metadata": {},
          "execution_count": 216
        }
      ]
    },
    {
      "cell_type": "code",
      "source": [
        "conta1.saldo()"
      ],
      "metadata": {
        "colab": {
          "base_uri": "https://localhost:8080/"
        },
        "id": "aIgk_OwbZwXe",
        "outputId": "fc17dc4f-bcca-4073-fd21-e480604cb3b8"
      },
      "execution_count": 217,
      "outputs": [
        {
          "output_type": "stream",
          "name": "stdout",
          "text": [
            "Saldo da conta corrente é = 100\n"
          ]
        }
      ]
    },
    {
      "cell_type": "code",
      "source": [
        "conta1.saldo()\n"
      ],
      "metadata": {
        "id": "1kCqdQ74si6Y",
        "colab": {
          "base_uri": "https://localhost:8080/"
        },
        "outputId": "df743a2f-39ce-49f7-8a87-461040b94733"
      },
      "execution_count": 203,
      "outputs": [
        {
          "output_type": "stream",
          "name": "stdout",
          "text": [
            "Saldo da conta corrente é = 910\n"
          ]
        }
      ]
    },
    {
      "cell_type": "code",
      "source": [
        "conta2 = conta_corrente()\n",
        "while True:\n",
        "  opcao = input(\"menu: [d] - deposito, [sa] - saque, [s] - saldo, [q] - sair.\\n\")\n",
        "  if opcao == 'd':\n",
        "    v = float(input(\"Digite o valor do depósito: \"))\n",
        "    conta2.deposito(v)\n",
        "  elif opcao == 'sa':\n",
        "    v = float(input(\"Digite o valor do saque\"))\n",
        "    conta2.saque(v)\n",
        "  elif opcao == 's':\n",
        "    conta2.saldo()\n",
        "  elif opcao == 'q':\n",
        "    print(\"Operção finalizada com sucesso!\")\n",
        "    break"
      ],
      "metadata": {
        "colab": {
          "base_uri": "https://localhost:8080/"
        },
        "id": "IBSVvZNCi66Q",
        "outputId": "32665864-af9a-4067-a489-809aea1bc263"
      },
      "execution_count": 220,
      "outputs": [
        {
          "output_type": "stream",
          "name": "stdout",
          "text": [
            "menu: [d] - deposito, [sa] - saque, [s] - saldo, [q] - sair.\n",
            "d\n",
            "Digite o valor do depósito: 1000\n",
            "menu: [d] - deposito, [sa] - saque, [s] - saldo, [q] - sair.\n",
            "sa\n",
            "Digite o valor do saque400.0\n",
            "menu: [d] - deposito, [sa] - saque, [s] - saldo, [q] - sair.\n",
            "s\n",
            "Saldo da conta corrente é = 600.0\n",
            "menu: [d] - deposito, [sa] - saque, [s] - saldo, [q] - sair.\n",
            "q\n",
            "Operção finalizada com sucesso!\n"
          ]
        }
      ]
    }
  ]
}