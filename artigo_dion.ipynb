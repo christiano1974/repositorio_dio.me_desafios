{
  "nbformat": 4,
  "nbformat_minor": 0,
  "metadata": {
    "colab": {
      "provenance": [],
      "authorship_tag": "ABX9TyMAul2vDgCDC14YIHd8kAwT",
      "include_colab_link": true
    },
    "kernelspec": {
      "name": "python3",
      "display_name": "Python 3"
    },
    "language_info": {
      "name": "python"
    }
  },
  "cells": [
    {
      "cell_type": "markdown",
      "metadata": {
        "id": "view-in-github",
        "colab_type": "text"
      },
      "source": [
        "<a href=\"https://colab.research.google.com/github/christiano1974/repositorio_dio.me_desafios/blob/main/artigo_dion.ipynb\" target=\"_parent\"><img src=\"https://colab.research.google.com/assets/colab-badge.svg\" alt=\"Open In Colab\"/></a>"
      ]
    },
    {
      "cell_type": "markdown",
      "source": [
        "\n",
        "# Explorando os Bastidores da Ciência de Dados: Um Roteiro para Cientistas Júnior\n",
        "\n",
        "A ciência de dados é uma jornada fascinante que começa com a coleta de dados e nos leva por uma trilha complexa de transformações e análises. Neste guia, voltado especialmente para cientistas de dados júnior, desvendamos os mistérios por trás de cinco blocos essenciais: coleta, limpeza, transformação, lidando com dados duplicados e, é claro, os principais pacotes do Python que servem como ferramentas fundamentais nessa jornada. Prepare-se para uma exploração prática, onde cada passo é uma descoberta e cada comando Python é uma chave para desvendar insights valiosos. Vamos mergulhar nos detalhes cruciais que moldam a essência do trabalho de um cientista de dados iniciante.\n",
        "\n",
        "\n",
        "\n",
        "## 1. Coleta de Dados\n",
        "\n",
        "A coleta é o ponto de partida na nossa jornada. Utilizamos bibliotecas poderosas como `requests` para APIs e `pandas` para ler e explorar arquivos. Garantimos que nossos dados sejam diversos e representativos, fornecendo a matéria-prima essencial para nossas análises.\n",
        "\n",
        "## 2. Limpeza de Dados\n",
        "\n",
        "Na limpeza, refinamos nossa matéria-prima. Com o Pandas, aplicamos `dropna` para remover nulos, `fillna` para preencher falhas e `replace` para corrigir erros. Essas ferramentas garantem que nossos dados estejam polidos, prontos para revelar insights sem ruídos indesejados.\n",
        "\n",
        "## 3. Transformação de Dados\n",
        "\n",
        "A transformação é onde moldamos nossos dados para o sucesso. Pandas e NumPy são aliados poderosos; utilizamos `apply` e `map` para manipulação, `get_dummies` para categorias e `StandardScaler` para normalizar escalas. Tudo isso para criar uma base sólida para nossos modelos.\n",
        "\n",
        "## 4. Dados Duplicados\n",
        "\n",
        "Evitar duplicatas é essencial. Com Pandas, identificamos usando `duplicated` e eliminamos com `drop_duplicates`. Dessa forma, garantimos que cada peça de informação contribua de forma única, mantendo a integridade e precisão em nossas análises.\n",
        "\n",
        "## 5. Principais Pacotes do Python\n",
        "\n",
        "Os pilares do nosso arsenal incluem o Pandas, onde comandos como `read_csv` e `groupby` são fundamentais. NumPy enriquece com eficiência numérica, enquanto o Scikit-learn simplifica o processo de machine learning com `fit`, `transform`, e `predict`. Com esses pacotes, construímos nosso caminho na ciência de dados, explorando, limpando e moldando dados para revelar narrativas escondidas.\n",
        "\n",
        "## 6. Conclusão\n",
        "\n",
        "##### Este artigo foi realizado com a ajuda do chatGPT, atuando como co-piloto, mas foi revisado por mim ***( Christiano Garcia )***, um entusiasta da ciência de dados e do xadrez, sendo 100% humano. Para trocas de ideias e eventuais contatos para trabalhos na área de ciência de dados, sinta-se à vontade para conectar através do meu Linkedin é [www.linkedin.com/in/christiano1974.](https://linkedin.com/in/christiano1974)\n",
        "---\n",
        "\n",
        "### Referências\n",
        "\n",
        "1. McKinney, W. (2017). \"Python for Data Analysis: Data Wrangling with Pandas, NumPy, and IPython.\" O'Reilly Media.\n",
        "2. VanderPlas, J. (2016). \"Python Data Science Handbook: Essential Tools for Working with Data.\" O'Reilly Media.\n",
        "3. Pedregosa, F., Varoquaux, G., Gramfort, A., Michel, V., Thirion, B., Grisel, O., ... & Duchesnay, É. (2011). \"Scikit-learn: Machine Learning in Python.\" Journal of Machine Learning Research, 12, 2825-2830.\n"
      ],
      "metadata": {
        "id": "kj8uC8lWg55Q"
      }
    }
  ]
}