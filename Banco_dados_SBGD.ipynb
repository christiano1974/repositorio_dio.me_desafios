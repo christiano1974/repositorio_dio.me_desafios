{
  "nbformat": 4,
  "nbformat_minor": 0,
  "metadata": {
    "colab": {
      "provenance": [],
      "authorship_tag": "ABX9TyOhRozZEqRZID6yh8G2buE5",
      "include_colab_link": true
    },
    "kernelspec": {
      "name": "python3",
      "display_name": "Python 3"
    },
    "language_info": {
      "name": "python"
    }
  },
  "cells": [
    {
      "cell_type": "markdown",
      "metadata": {
        "id": "view-in-github",
        "colab_type": "text"
      },
      "source": [
        "<a href=\"https://colab.research.google.com/github/christiano1974/repositorio_dio.me_desafios/blob/main/Banco_dados_SBGD.ipynb\" target=\"_parent\"><img src=\"https://colab.research.google.com/assets/colab-badge.svg\" alt=\"Open In Colab\"/></a>"
      ]
    },
    {
      "cell_type": "code",
      "execution_count": 47,
      "metadata": {
        "colab": {
          "base_uri": "https://localhost:8080/"
        },
        "id": "Q1r9x1yIwrrd",
        "outputId": "6a722418-28ee-4304-cb73-62f8a7e9b8b3"
      },
      "outputs": [
        {
          "output_type": "stream",
          "name": "stdout",
          "text": [
            "Looking in indexes: https://pypi.org/simple, https://us-python.pkg.dev/colab-wheels/public/simple/\n",
            "Requirement already satisfied: sqlalchemy in /usr/local/lib/python3.8/dist-packages (1.4.44)\n",
            "Requirement already satisfied: greenlet!=0.4.17 in /usr/local/lib/python3.8/dist-packages (from sqlalchemy) (2.0.1)\n"
          ]
        }
      ],
      "source": [
        "pip install sqlalchemy"
      ]
    },
    {
      "cell_type": "code",
      "source": [
        "pip install pymongo"
      ],
      "metadata": {
        "colab": {
          "base_uri": "https://localhost:8080/"
        },
        "id": "MHRtMaCuw-yK",
        "outputId": "1e2f0bd7-d7db-438f-fce9-5d87f7be2fed"
      },
      "execution_count": 48,
      "outputs": [
        {
          "output_type": "stream",
          "name": "stdout",
          "text": [
            "Looking in indexes: https://pypi.org/simple, https://us-python.pkg.dev/colab-wheels/public/simple/\n",
            "Requirement already satisfied: pymongo in /usr/local/lib/python3.8/dist-packages (4.3.3)\n",
            "Requirement already satisfied: dnspython<3.0.0,>=1.16.0 in /usr/local/lib/python3.8/dist-packages (from pymongo) (2.2.1)\n"
          ]
        }
      ]
    },
    {
      "cell_type": "code",
      "source": [
        "import sqlalchemy"
      ],
      "metadata": {
        "id": "xjluOmEJoJrP"
      },
      "execution_count": 49,
      "outputs": []
    },
    {
      "cell_type": "code",
      "source": [
        "from sqlalchemy.orm import declarative_base, relationship\n",
        "from sqlalchemy import Column\n",
        "Base = declarative_base()"
      ],
      "metadata": {
        "id": "Rqa92XTHobYy"
      },
      "execution_count": 50,
      "outputs": []
    },
    {
      "cell_type": "code",
      "source": [
        "from sqlalchemy import Integer, String, ForeignKey"
      ],
      "metadata": {
        "id": "rOOFq7ekqF0u"
      },
      "execution_count": 51,
      "outputs": []
    },
    {
      "cell_type": "code",
      "source": [
        "class User(Base):\n",
        "  __tablename__= \"user_cliente\"\n",
        "  # atributos\n",
        "  id_cliente = Column(Integer,primary_key = True)\n",
        "  name = Column(String)\n",
        "  endereco = Column(String)\n",
        "  cpf = Column(String)\n",
        "  celular = Column(Integer)\n",
        "  email = Column(String)\n",
        "  def __repr__(self):\n",
        "    return f\"User(id_cliente = {self.id_cliente}, name = {self.name}, endereco = {self.endereco}, celular = {self.celular}, email = {self.email})\""
      ],
      "metadata": {
        "id": "Ib9gV-4Go8lN"
      },
      "execution_count": 52,
      "outputs": []
    }
  ]
}