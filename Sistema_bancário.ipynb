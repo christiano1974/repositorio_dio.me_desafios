{
  "nbformat": 4,
  "nbformat_minor": 0,
  "metadata": {
    "colab": {
      "provenance": [],
      "collapsed_sections": [],
      "authorship_tag": "ABX9TyOq3MiWuKxQ5KPCfhPRLbae",
      "include_colab_link": true
    },
    "kernelspec": {
      "name": "python3",
      "display_name": "Python 3"
    },
    "language_info": {
      "name": "python"
    }
  },
  "cells": [
    {
      "cell_type": "markdown",
      "metadata": {
        "id": "view-in-github",
        "colab_type": "text"
      },
      "source": [
        "<a href=\"https://colab.research.google.com/github/christiano1974/repositorio_dio.me_desafios/blob/main/Sistema_banc%C3%A1rio.ipynb\" target=\"_parent\"><img src=\"https://colab.research.google.com/assets/colab-badge.svg\" alt=\"Open In Colab\"/></a>"
      ]
    },
    {
      "cell_type": "code",
      "execution_count": null,
      "metadata": {
        "id": "sJDrqtGOWbzw"
      },
      "outputs": [],
      "source": [
        "#### Este programa simula um caixa eletrônico   - Christiano Garcia.\n",
        "### Menu:  [d] depósitar    [s]  sacar    [e] extrato   [q] sair\n",
        "saldo = 0\n",
        "limite = 500\n",
        "extrato = [ ]\n",
        "numero_saque = 0\n",
        "limite_saques = 3"
      ]
    },
    {
      "cell_type": "code",
      "source": [
        "while True:\n",
        "  opcao = input('Selecione uma opção do menu: ')\n",
        "  if opcao == 'd':\n",
        "      valor = float(input(\"Digite o valor do depósito: \"))\n",
        "      if valor <= 0:\n",
        "         print(\"Valor inválido !!!\")\n",
        "      else:\n",
        "          saldo += valor \n",
        "          extrato.append(\"R$ %.2f _ _ _C\" %valor)\n",
        "  elif opcao == 's':\n",
        "      valor = float(input(\"Digite o valor do saque: \"))\n",
        "      if valor <= 0 and limite_saques > 3:\n",
        "        print(\"Valor inválido!\")\n",
        "      elif valor > 500 or numero_saque >= limite_saques:\n",
        "        print(\"Saque acima do limite ou limite de saque excedido!\")\n",
        "      elif valor > saldo:\n",
        "        print(\"Saldo insuficiente para saque!\")\n",
        "      else:\n",
        "        numero_saque += 1\n",
        "        saldo -= valor\n",
        "        print(\"Saque realizado com sucesso.\")\n",
        "        extrato.append(\"R$ %.2f _ _ _D\" %valor)\n",
        "  elif opcao == 'e':\n",
        "      if saldo != 0:\n",
        "         print(\"---------- extrado --------- \\n\")\n",
        "         for itens in extrato:\n",
        "            print(f\"{itens} \\n\")\n",
        "         print(\"seu saldo é de R$ %.2f\" %saldo)   \n",
        "      else:\n",
        "        print(\"Não foi realizdo nenhuma operação!\")\n",
        "  elif opcao == 'q':\n",
        "        print('operação finalizada com sucesso!')\n",
        "        break\n",
        "  else:\n",
        "      print(\"Opção inválida! Digite novamente a opção!\")\n",
        "    "
      ],
      "metadata": {
        "colab": {
          "base_uri": "https://localhost:8080/"
        },
        "id": "hgIJbN2qKpAc",
        "outputId": "0393e432-ce08-45a1-c978-fccd2558c9e7"
      },
      "execution_count": null,
      "outputs": [
        {
          "output_type": "stream",
          "name": "stdout",
          "text": [
            "Selecione uma opção do menu: e\n",
            "Não foi realizdo nenhuma operação!\n",
            "Selecione uma opção do menu: 500\n",
            "Opção inválida! Digite novamente a opção!\n",
            "Selecione uma opção do menu: d\n",
            "Digite o valor do depósito: 500\n",
            "Selecione uma opção do menu: 355.4\n",
            "Opção inválida! Digite novamente a opção!\n",
            "Selecione uma opção do menu: s\n",
            "Digite o valor do saque: 355.4\n",
            "Saque realizado com sucesso.\n",
            "Selecione uma opção do menu: e\n",
            "---------- extrado --------- \n",
            "\n",
            "R$ 500.00 _ _ _C \n",
            "\n",
            "R$ 355.40 _ _ _D \n",
            "\n",
            "seu saldo é de R$ 144.60\n",
            "Selecione uma opção do menu: q\n",
            "operação finalizada com sucesso!\n"
          ]
        }
      ]
    }
  ]
}