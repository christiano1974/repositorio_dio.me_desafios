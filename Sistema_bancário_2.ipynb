{
  "nbformat": 4,
  "nbformat_minor": 0,
  "metadata": {
    "colab": {
      "provenance": [],
      "collapsed_sections": [],
      "authorship_tag": "ABX9TyOqK7pV7zJ1gQPpwVmhjY5C",
      "include_colab_link": true
    },
    "kernelspec": {
      "name": "python3",
      "display_name": "Python 3"
    },
    "language_info": {
      "name": "python"
    }
  },
  "cells": [
    {
      "cell_type": "markdown",
      "metadata": {
        "id": "view-in-github",
        "colab_type": "text"
      },
      "source": [
        "<a href=\"https://colab.research.google.com/github/christiano1974/repositorio_dio.me_desafios/blob/main/Sistema_banc%C3%A1rio_2.ipynb\" target=\"_parent\"><img src=\"https://colab.research.google.com/assets/colab-badge.svg\" alt=\"Open In Colab\"/></a>"
      ]
    },
    {
      "cell_type": "code",
      "execution_count": null,
      "metadata": {
        "id": "sJDrqtGOWbzw"
      },
      "outputs": [],
      "source": [
        "#### Este programa simula um caixa eletrônico   - Christiano Garcia.\n",
        "### Menu:  [d] depósitar    [s]  sacar    [e] extrato   [q] sair\n",
        "saldo = 0\n",
        "limite = 500\n",
        "extrato = [ ]\n",
        "numero_saque = 0\n",
        "limite_saques = 3"
      ]
    },
    {
      "cell_type": "code",
      "source": [
        "while True:\n",
        "  opcao = input('Selecione uma opção do menu: ')\n",
        "  if opcao == 'd':\n",
        "      valor = float(input(\"Digite o valor do depósito: \"))\n",
        "      if valor <= 0:\n",
        "         print(\"Valor inválido !!!\")\n",
        "      else:\n",
        "          saldo += valor \n",
        "          extrato.append(\"R$ %.2f _ _ _C\" %valor)\n",
        "  elif opcao == 's':\n",
        "      valor = float(input(\"Digite o valor do saque: \"))\n",
        "      if valor <= 0 and limite_saques > 3:\n",
        "        print(\"Valor inválido!\")\n",
        "      elif valor > 500 or numero_saque >= limite_saques:\n",
        "        print(\"Saque acima do limite ou limite de saque excedido!\")\n",
        "      elif valor > saldo:\n",
        "        print(\"Saldo insuficiente para saque!\")\n",
        "      else:\n",
        "        numero_saque += 1\n",
        "        saldo -= valor\n",
        "        print(\"Saque realizado com sucesso.\")\n",
        "        extrato.append(\"R$ %.2f _ _ _D\" %valor)\n",
        "  elif opcao == 'e':\n",
        "      if saldo != 0:\n",
        "         print(\"---------- extrado --------- \\n\")\n",
        "         for itens in extrato:\n",
        "            print(f\"{itens} \\n\")\n",
        "         print(\"seu saldo é de R$ %.2f\" %saldo)   \n",
        "      else:\n",
        "        print(\"Não foi realizdo nenhuma operação!\")\n",
        "  elif opcao == 'q':\n",
        "        print('operação finalizada com sucesso!')\n",
        "        break\n",
        "  else:\n",
        "      print(\"Opção inválida! Digite novamente a opção!\")\n",
        "\n",
        "  \n",
        "   "
      ],
      "metadata": {
        "colab": {
          "base_uri": "https://localhost:8080/"
        },
        "id": "hgIJbN2qKpAc",
        "outputId": "ab3a8084-8487-4d88-a023-96947f60f8b4"
      },
      "execution_count": null,
      "outputs": [
        {
          "output_type": "stream",
          "name": "stdout",
          "text": [
            "Selecione uma opção do menu: q\n",
            "operação finalizada com sucesso!\n"
          ]
        }
      ]
    },
    {
      "cell_type": "markdown",
      "source": [
        "Sistema Bancários aplicando funções."
      ],
      "metadata": {
        "id": "YVX3pbptbeLU"
      }
    },
    {
      "cell_type": "code",
      "source": [
        "from re import T\n",
        "#### Este programa simula um caixa eletrônico   - Christiano Garcia.\n",
        "### Menu:  [d] depósitar    [s]  sacar    [e] extrato   [q] sair\n",
        "saldo = 0\n",
        "limite = 0\n",
        "extrato = [ ]\n",
        "numero_saque = 0\n",
        "limite_saques = 3\n",
        "usuarios = []\n",
        "contas = []\n",
        "agencia = \"0001\"\n",
        "numero_conta = 0\n",
        "\n",
        "def depositar (valor):\n",
        "   valor = float(input(\"Digite o valor do depósito: \"))\n",
        "   if valor <= 0:\n",
        "         print(\"Valor inválido !!!\")\n",
        "   else:\n",
        "          saldo += valor \n",
        "          extrato.append(\"R$ %.2f _ _ _C\" %valor)\n",
        "\n",
        "def sacar (*,valor):\n",
        "   valor = float(input(\"Digite o valor do saque: \"))\n",
        "   if valor <= 0 and limite_saques > 3:\n",
        "          print(\"Valor inválido!\")\n",
        "   elif valor > 500 or numero_saque >= limite_saques:\n",
        "        print(\"Saque acima do limite ou limite de saque excedido!\")\n",
        "   elif valor > saldo:\n",
        "          print(\"Saldo insuficiente para saque!\")\n",
        "   else:\n",
        "           numero_saque += 1\n",
        "           saldo -= valor\n",
        "           print(\"Saque realizado com sucesso.\")\n",
        "           extrato.append(\"R$ %.2f _ _ _D\" %valor)\n",
        "\n",
        "def exibir_extrato( ):\n",
        "    if saldo != 0:\n",
        "         print(\"---------- extrado --------- \\n\")\n",
        "         for itens in extrato:\n",
        "            print(f\"{itens} \\n\")\n",
        "         print(\"seu saldo é de R$ %.2f\" %saldo)   \n",
        "    else:\n",
        "        print(\"Não foi realizdo nenhuma operação!\")  \n",
        "\n",
        "def criar_usuario(usuarios):\n",
        "      cpf = input(\"informe o cpf (somente números): \")\n",
        "      usuario = filtrar_usuario(cpf,usuarios)\n",
        "      if usuario:\n",
        "        print(\"Já existe usuário com este cpf!\")\n",
        "        return\n",
        "      nome = input(\"Informe o nome completo: \")\n",
        "      data_nascimento = input(\"Informe a data de nascimento (dd-mm-aa)\")\n",
        "      endereco = input(\"Informe o endereço (logradouro, número, bairro, cidade/sigla do estado.\")\n",
        "      usuarios.append({'nome': nome, 'data_nascimento:': data_nascimento,'cpf': cpf, 'endereco': endereco})\n",
        "      print(\"Usuário criado com sucesso!\")\n",
        "\n",
        "def filtrar_usuario(cpf,usuarios):\n",
        "      cpf = input(\"informe o cpf (somente números): \" )\n",
        "      nome = input(\"informe nome completo: \")\n",
        "      for procurar in usuarios:\n",
        "        if procurar[nome] == nome and procurar[cpf] == cpf:\n",
        "          print(\"\\n usuário encontrado e já cadastrado!\")\n",
        "        else:\n",
        "          print(\"\\n usuário não encontra, sem cadastro!\")\n",
        "\n",
        "def criar_conta(agencia,usuarios):\n",
        "      numero_conta += 1\n",
        "      cpf = input(\"informar o cpf do usuario: \")\n",
        "      usuario = filtrar_usuario(cpf,usuarios)\n",
        "      if usuario:\n",
        "        print(\"\\n conta criada com sucesso!\")\n",
        "        return {'agencia':agencia,'numero_conta':numero_conta,'usuario':usuario}\n",
        "      print(\"\\n usuário não encontrado, fluxo de criação de conta encerrado!\")\n",
        "def listar_contas():\n",
        "  for usuario in usuarios:\n",
        "    print(f\"{usuario}\\n\")\n",
        "\n",
        "while True:\n",
        "  print(\"Opções: [d] - depositar, [s] - sacar, [e] - extrato, [nu] - novo_usuário, [lc] -listar contas, [nc] - nova conta, [q] - sair \")\n",
        "  opcao = input('Selecione uma opção do menu: ')\n",
        "\n",
        "  if opcao == 'd':\n",
        "    valor = float(input(\"Digite o valor do depósito: \"))\n",
        "    depositar(valor)\n",
        "\n",
        "  elif opcao == 's':\n",
        "    valor_saque = float(input(\"Digite o valor do saque: \"))\n",
        "    sacar(valor = valor_saque)\n",
        "\n",
        "  elif opcao == 'e':\n",
        "    exibir_extrato()\n",
        "\n",
        "  elif opcao == 'nu':\n",
        "    criar_usuario(usuarios)\n",
        "\n",
        "  elif opcao == 'lc':\n",
        "    listar_contas()\n",
        "  \n",
        "  elif opcao == 'nc':\n",
        "    criar_conta(agencia,usuarios)\n",
        "  elif opcao == 'q':\n",
        "    print('Operação encerrada com sucesso!')\n",
        "    break\n",
        "  else:\n",
        "    print('Opção inválida!')\n",
        "  \n",
        "\n",
        "  \n",
        "\n",
        "\n",
        "      "
      ],
      "metadata": {
        "id": "VoBGB-vuvjV9",
        "colab": {
          "base_uri": "https://localhost:8080/"
        },
        "outputId": "d5c69988-b2cf-4be1-bb47-65b3cc605734"
      },
      "execution_count": 4,
      "outputs": [
        {
          "output_type": "stream",
          "name": "stdout",
          "text": [
            "Opções: [d] - depositar, [s] - sacar, [e] - extrato, [nu] - novo_usuário, [lc] -listar contas, [nc] - nova conta, [q] - sair \n",
            "Selecione uma opção do menu: q\n",
            "Operação encerrada com sucesso!\n"
          ]
        }
      ]
    }
  ]
}